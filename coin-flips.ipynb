{
 "cells": [
  {
   "cell_type": "markdown",
   "metadata": {},
   "source": [
    "# Flipping Out"
   ]
  },
  {
   "cell_type": "code",
   "execution_count": 2,
   "metadata": {
    "collapsed": true
   },
   "outputs": [],
   "source": [
    "%matplotlib inline\n",
    "import math\n",
    "import random\n",
    "import statistics as st\n",
    "import numpy as np\n",
    "import matplotlib.pyplot as plt"
   ]
  },
  {
   "cell_type": "code",
   "execution_count": 64,
   "metadata": {
    "collapsed": true
   },
   "outputs": [],
   "source": [
    "def flip_it():\n",
    "    return random.randint(1, 2)\n",
    "\n",
    "def is_power2(num):\n",
    "\n",
    "    return num != 0 and ((num & (num - 1)) == 0)\n"
   ]
  },
  {
   "cell_type": "code",
   "execution_count": 65,
   "metadata": {
    "collapsed": false
   },
   "outputs": [],
   "source": [
    "def flippin_off(n=2**16):\n",
    "    heads = 0\n",
    "    tails = 0\n",
    "    count = 0\n",
    "    results_list = []\n",
    "    expo = math.sqrt(n)\n",
    "    print(math.sqrt(expo))\n",
    "    while count <= n:\n",
    "        if is_power2(count):\n",
    "            results_list.append((heads, tails))\n",
    "        if flip_it() == 1:\n",
    "            heads += 1\n",
    "        else:\n",
    "            tails += 1\n",
    "        count += 1\n",
    "    return (results_list)"
   ]
  },
  {
   "cell_type": "code",
   "execution_count": 69,
   "metadata": {
    "collapsed": false
   },
   "outputs": [
    {
     "name": "stdout",
     "output_type": "stream",
     "text": [
      "16.0\n"
     ]
    }
   ],
   "source": [
    "results_list = flippin_off()"
   ]
  },
  {
   "cell_type": "code",
   "execution_count": 70,
   "metadata": {
    "collapsed": false
   },
   "outputs": [
    {
     "name": "stdout",
     "output_type": "stream",
     "text": [
      "[(1, 0), (2, 0), (2, 2), (6, 2), (9, 7), (16, 16), (31, 33), (60, 68), (118, 138), (249, 263), (495, 529), (1009, 1039), (1998, 2098), (4062, 4130), (8148, 8236), (16432, 16336), (32885, 32651)]\n"
     ]
    }
   ],
   "source": [
    "print(results_list)    "
   ]
  },
  {
   "cell_type": "code",
   "execution_count": 73,
   "metadata": {
    "collapsed": false
   },
   "outputs": [],
   "source": [
    "def get_difference_list(results_list):\n",
    "    diff_list = [math.fabs(x[0]-x[1]) for x in results_list]\n",
    "    return diff_list"
   ]
  },
  {
   "cell_type": "code",
   "execution_count": 97,
   "metadata": {
    "collapsed": false
   },
   "outputs": [],
   "source": [
    "def get_ratio(results_list):\n",
    "    \n",
    "    ratio_list = []\n",
    "    \n",
    "    for x in results_list:\n",
    "        if x[1] == 0:\n",
    "            ratio_list.append(0)\n",
    "            \n",
    "        else:\n",
    "            ratio_list.append('%.2f'%(x[0] / x[1]))\n",
    "            \n",
    "    return ratio_list"
   ]
  },
  {
   "cell_type": "code",
   "execution_count": 98,
   "metadata": {
    "collapsed": false
   },
   "outputs": [],
   "source": [
    "ratio_results = get_ratio(results_list)"
   ]
  },
  {
   "cell_type": "code",
   "execution_count": 102,
   "metadata": {
    "collapsed": false
   },
   "outputs": [
    {
     "name": "stdout",
     "output_type": "stream",
     "text": [
      "[1.0, 2.0, 0.0, 4.0, 2.0, 0.0, 2.0, 8.0, 20.0, 14.0, 34.0, 30.0, 100.0, 68.0, 88.0, 96.0, 234.0]\n"
     ]
    }
   ],
   "source": [
    "difference_list = get_difference_list(results_list)\n",
    "print(difference_list)"
   ]
  },
  {
   "cell_type": "code",
   "execution_count": 113,
   "metadata": {
    "collapsed": false
   },
   "outputs": [
    {
     "data": {
      "image/png": "[encoded data removed]",
      "text/plain": [
       "<matplotlib.figure.Figure at 0x10a664a20>"
      ]
     },
     "metadata": {},
     "output_type": "display_data"
    }
   ],
   "source": [
    "x = difference_list\n",
    "\n",
    "plt.plot(x)\n",
    "plt.xlabel('Flips at powers of 2')\n",
    "plt.ylabel('Difference')\n",
    "plt.title('Difference')\n",
    "plt.show()\n"
   ]
  },
  {
   "cell_type": "code",
   "execution_count": 112,
   "metadata": {
    "collapsed": false
   },
   "outputs": [
    {
     "data": {
      "image/png": "[encoded data removed]",
      "text/plain": [
       "<matplotlib.figure.Figure at 0x10a05d6d8>"
      ]
     },
     "metadata": {},
     "output_type": "display_data"
    }
   ],
   "source": [
    "x = ratio_results\n",
    "\n",
    "plt.plot(x)\n",
    "plt.xlabel('Flips at powers of 2')\n",
    "plt.ylabel('Ratio of Heads to Tails')\n",
    "plt.title('Ratio')\n",
    "plt.show()\n"
   ]
  },
  {
   "cell_type": "code",
   "execution_count": null,
   "metadata": {
    "collapsed": true
   },
   "outputs": [],
   "source": []
  }
 ],
 "metadata": {
  "kernelspec": {
   "display_name": "Python 3",
   "language": "python",
   "name": "python3"
  },
  "language_info": {
   "codemirror_mode": {
    "name": "ipython",
    "version": 3
   },
   "file_extension": ".py",
   "mimetype": "text/x-python",
   "name": "python",
   "nbconvert_exporter": "python",
   "pygments_lexer": "ipython3",
   "version": "3.5.1"
  }
 },
 "nbformat": 4,
 "nbformat_minor": 0
}
