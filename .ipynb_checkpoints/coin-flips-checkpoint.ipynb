{
 "cells": [
  {
   "cell_type": "markdown",
   "metadata": {},
   "source": [
    "# Flipping Out"
   ]
  },
  {
   "cell_type": "code",
   "execution_count": 1,
   "metadata": {
    "collapsed": true
   },
   "outputs": [],
   "source": [
    "%matplotlib inline\n",
    "import math\n",
    "import random\n",
    "import statistics as st\n",
    "import numpy as np\n",
    "import matplotlib.pyplot as plt"
   ]
  },
  {
   "cell_type": "code",
   "execution_count": 2,
   "metadata": {
    "collapsed": true
   },
   "outputs": [],
   "source": [
    "def flip_it():\n",
    "    return random.randint(1, 2)"
   ]
  },
  {
   "cell_type": "code",
   "execution_count": 3,
   "metadata": {
    "collapsed": false
   },
   "outputs": [],
   "source": [
    "def flippin_off(flips=16):\n",
    "    results_list = []\n",
    "    for n in range(flips + 1):\n",
    "        heads = 0\n",
    "        tails = 0\n",
    "        for _ in range(2 ** n):\n",
    "            if flip_it() == 1:\n",
    "                heads += 1\n",
    "            else:\n",
    "                tails += 1\n",
    "        results_list.append((heads, tails))\n",
    "    return results_list"
   ]
  },
  {
   "cell_type": "code",
   "execution_count": 4,
   "metadata": {
    "collapsed": false
   },
   "outputs": [],
   "source": [
    "results_list = flippin_off()"
   ]
  },
  {
   "cell_type": "code",
   "execution_count": 5,
   "metadata": {
    "collapsed": false
   },
   "outputs": [
    {
     "name": "stdout",
     "output_type": "stream",
     "text": [
      "[(1, 0), (0, 2), (0, 4), (3, 5), (7, 9), (15, 17), (25, 39), (73, 55), (132, 124), (246, 266), (526, 498), (1014, 1034), (2059, 2037), (4169, 4023), (8291, 8093), (16290, 16478), (32697, 32839)]\n"
     ]
    }
   ],
   "source": [
    "print(results_list)    "
   ]
  },
  {
   "cell_type": "code",
   "execution_count": 6,
   "metadata": {
    "collapsed": false
   },
   "outputs": [],
   "source": [
    "def get_difference_list(results_list):\n",
    "    diff_list = [math.fabs(x[0]-x[1]) for x in results_list]\n",
    "    return diff_list"
   ]
  },
  {
   "cell_type": "code",
   "execution_count": 7,
   "metadata": {
    "collapsed": false
   },
   "outputs": [],
   "source": [
    "def get_ratio(results_list):\n",
    "    \n",
    "    ratio_list = []\n",
    "    \n",
    "    for x in results_list:\n",
    "        if x[1] == 0:\n",
    "            ratio_list.append(1)\n",
    "            \n",
    "        else:\n",
    "            ratio_list.append((x[0] / x[1]))\n",
    "            \n",
    "    return ratio_list"
   ]
  },
  {
   "cell_type": "code",
   "execution_count": 8,
   "metadata": {
    "collapsed": false
   },
   "outputs": [
    {
     "name": "stdout",
     "output_type": "stream",
     "text": [
      "[1, 0.0, 0.0, 0.6, 0.7777777777777778, 0.8823529411764706, 0.6410256410256411, 1.3272727272727274, 1.064516129032258, 0.924812030075188, 1.0562248995983936, 0.9806576402321083, 1.0108001963672066, 1.036291324881929, 1.024465587544792, 0.9885908484039325, 0.9956758731995493]\n"
     ]
    }
   ],
   "source": [
    "ratio_results = get_ratio(results_list)\n",
    "print(ratio_results)"
   ]
  },
  {
   "cell_type": "code",
   "execution_count": 9,
   "metadata": {
    "collapsed": false
   },
   "outputs": [
    {
     "name": "stdout",
     "output_type": "stream",
     "text": [
      "[1.0, 2.0, 4.0, 2.0, 2.0, 2.0, 14.0, 18.0, 8.0, 20.0, 28.0, 20.0, 22.0, 146.0, 198.0, 188.0, 142.0]\n"
     ]
    }
   ],
   "source": [
    "difference_list = get_difference_list(results_list)\n",
    "print(difference_list)"
   ]
  },
  {
   "cell_type": "code",
   "execution_count": 10,
   "metadata": {
    "collapsed": false
   },
   "outputs": [
    {
     "data": {
      "image/png": "[encoded data removed]",
      "text/plain": [
       "<matplotlib.figure.Figure at 0x10bd46518>"
      ]
     },
     "metadata": {},
     "output_type": "display_data"
    }
   ],
   "source": [
    "x = difference_list\n",
    "\n",
    "plt.plot(x)\n",
    "plt.xlabel('Flips at powers of 2')\n",
    "plt.ylabel('Difference')\n",
    "plt.title('Difference')\n",
    "plt.show()\n"
   ]
  },
  {
   "cell_type": "code",
   "execution_count": 11,
   "metadata": {
    "collapsed": false
   },
   "outputs": [
    {
     "data": {
      "image/png": "[encoded data removed]",
      "text/plain": [
       "<matplotlib.figure.Figure at 0x10bdcc828>"
      ]
     },
     "metadata": {},
     "output_type": "display_data"
    }
   ],
   "source": [
    "x = ratio_results\n",
    "\n",
    "plt.plot(x)\n",
    "plt.xlabel('Flips at powers of 2')\n",
    "plt.ylabel('Ratio of Heads to Tails')\n",
    "plt.title('Ratio')\n",
    "plt.show()\n"
   ]
  },
  {
   "cell_type": "code",
   "execution_count": 12,
   "metadata": {
    "collapsed": false
   },
   "outputs": [
    {
     "data": {
      "image/png": "[encoded data removed]",
      "text/plain": [
       "<matplotlib.figure.Figure at 0x10bd46cc0>"
      ]
     },
     "metadata": {},
     "output_type": "display_data"
    }
   ],
   "source": [
    "x = ratio_results\n",
    "y = difference_list\n",
    "\n",
    "plt.plot(x)\n",
    "\n",
    "plt.title('Ratio')\n",
    "\n",
    "\n",
    "\n",
    "plt.plot(y)\n",
    "plt.xlabel('Flips at powers of 2')\n",
    "plt.ylabel('Ratio (Blue) and Difference (green)')\n",
    "plt.title('Difference')\n",
    "plt.show()"
   ]
  },
  {
   "cell_type": "code",
   "execution_count": 13,
   "metadata": {
    "collapsed": false
   },
   "outputs": [
    {
     "data": {
      "image/png": "[encoded data removed]",
      "text/plain": [
       "<matplotlib.figure.Figure at 0x10bfb79e8>"
      ]
     },
     "metadata": {},
     "output_type": "display_data"
    }
   ],
   "source": [
    "x = difference_list\n",
    "\n",
    "plt.scatter(range(17), x)\n",
    "plt.xscale('log')\n",
    "plt.xlabel('Flips at powers of 2')\n",
    "plt.ylabel('Difference')\n",
    "plt.title('Difference')\n",
    "plt.show()\n"
   ]
  },
  {
   "cell_type": "code",
   "execution_count": 14,
   "metadata": {
    "collapsed": false
   },
   "outputs": [
    {
     "data": {
      "image/png": "[encoded data removed]",
      "text/plain": [
       "<matplotlib.figure.Figure at 0x10c0c2da0>"
      ]
     },
     "metadata": {},
     "output_type": "display_data"
    }
   ],
   "source": [
    "x = ratio_results\n",
    "\n",
    "plt.scatter(range(len(x)), x)\n",
    "plt.xscale('log')\n",
    "plt.xlabel('Flips at powers of 2')\n",
    "plt.ylabel('Ratio')\n",
    "plt.title('Ratio')\n",
    "plt.show()"
   ]
  },
  {
   "cell_type": "code",
   "execution_count": 60,
   "metadata": {
    "collapsed": true
   },
   "outputs": [],
   "source": [
    "def repeat(runs):\n",
    "    compiled_dict = {}\n",
    "    while runs >= 0:\n",
    "        result = flippin_off()\n",
    "        compiled_dict[runs] = result\n",
    "        runs -= 1\n",
    "    return(compiled_dict)"
   ]
  },
  {
   "cell_type": "code",
   "execution_count": 61,
   "metadata": {
    "collapsed": false
   },
   "outputs": [],
   "source": [
    "compiled_dict = repeat(20)"
   ]
  },
  {
   "cell_type": "code",
   "execution_count": 62,
   "metadata": {
    "collapsed": false
   },
   "outputs": [
    {
     "name": "stdout",
     "output_type": "stream",
     "text": [
      "{0: [(1, 0), (2, 0), (2, 2), (4, 4), (8, 8), (15, 17), (35, 29), (75, 53), (123, 133), (258, 254), (514, 510), (1022, 1026), (2079, 2017), (4106, 4086), (8074, 8310), (16306, 16462), (32708, 32828)], 1: [(0, 1), (2, 0), (3, 1), (7, 1), (7, 9), (20, 12), (31, 33), (63, 65), (123, 133), (259, 253), (487, 537), (1020, 1028), (2019, 2077), (4122, 4070), (8229, 8155), (16496, 16272), (32730, 32806)], 2: [(0, 1), (2, 0), (4, 0), (4, 4), (10, 6), (22, 10), (27, 37), (67, 61), (114, 142), (253, 259), (503, 521), (1022, 1026), (2031, 2065), (4106, 4086), (8094, 8290), (16507, 16261), (32967, 32569)], 3: [(0, 1), (1, 1), (3, 1), (2, 6), (10, 6), (16, 16), (32, 32), (56, 72), (123, 133), (247, 265), (500, 524), (1044, 1004), (2083, 2013), (4152, 4040), (8247, 8137), (16422, 16346), (32691, 32845)], 4: [(1, 0), (0, 2), (1, 3), (3, 5), (11, 5), (22, 10), (36, 28), (76, 52), (122, 134), (249, 263), (493, 531), (1001, 1047), (1996, 2100), (4114, 4078), (8259, 8125), (16341, 16427), (32969, 32567)], 5: [(1, 0), (1, 1), (2, 2), (4, 4), (9, 7), (15, 17), (31, 33), (61, 67), (123, 133), (248, 264), (515, 509), (1008, 1040), (2028, 2068), (4032, 4160), (8073, 8311), (16341, 16427), (33009, 32527)], 6: [(1, 0), (2, 0), (3, 1), (2, 6), (9, 7), (14, 18), (34, 30), (77, 51), (136, 120), (228, 284), (481, 543), (1024, 1024), (2100, 1996), (4049, 4143), (8231, 8153), (16312, 16456), (32944, 32592)], 7: [(1, 0), (0, 2), (2, 2), (6, 2), (8, 8), (19, 13), (30, 34), (61, 67), (121, 135), (260, 252), (514, 510), (1040, 1008), (2029, 2067), (4148, 4044), (8315, 8069), (16167, 16601), (32789, 32747)], 8: [(1, 0), (1, 1), (2, 2), (3, 5), (9, 7), (11, 21), (34, 30), (68, 60), (137, 119), (242, 270), (519, 505), (1022, 1026), (2043, 2053), (4152, 4040), (8157, 8227), (16457, 16311), (32559, 32977)], 9: [(0, 1), (2, 0), (1, 3), (6, 2), (9, 7), (13, 19), (40, 24), (66, 62), (126, 130), (265, 247), (489, 535), (977, 1071), (2051, 2045), (4068, 4124), (8037, 8347), (16370, 16398), (32568, 32968)], 10: [(1, 0), (1, 1), (1, 3), (5, 3), (6, 10), (18, 14), (29, 35), (62, 66), (137, 119), (257, 255), (529, 495), (1018, 1030), (2048, 2048), (4083, 4109), (8172, 8212), (16218, 16550), (32639, 32897)], 11: [(1, 0), (1, 1), (1, 3), (2, 6), (8, 8), (17, 15), (31, 33), (64, 64), (123, 133), (264, 248), (533, 491), (1095, 953), (2020, 2076), (4059, 4133), (8329, 8055), (16377, 16391), (32850, 32686)], 12: [(1, 0), (2, 0), (2, 2), (3, 5), (6, 10), (14, 18), (32, 32), (63, 65), (124, 132), (249, 263), (527, 497), (1007, 1041), (2029, 2067), (4131, 4061), (8219, 8165), (16388, 16380), (32846, 32690)], 13: [(1, 0), (1, 1), (1, 3), (4, 4), (7, 9), (16, 16), (29, 35), (59, 69), (133, 123), (236, 276), (475, 549), (1034, 1014), (2046, 2050), (4084, 4108), (8228, 8156), (16200, 16568), (32763, 32773)], 14: [(0, 1), (1, 1), (1, 3), (5, 3), (6, 10), (17, 15), (33, 31), (61, 67), (135, 121), (245, 267), (525, 499), (1005, 1043), (2056, 2040), (4062, 4130), (8252, 8132), (16529, 16239), (32990, 32546)], 15: [(0, 1), (1, 1), (3, 1), (4, 4), (8, 8), (18, 14), (28, 36), (58, 70), (129, 127), (246, 266), (518, 506), (1030, 1018), (2001, 2095), (4121, 4071), (8235, 8149), (16520, 16248), (32769, 32767)], 16: [(0, 1), (1, 1), (0, 4), (3, 5), (9, 7), (15, 17), (32, 32), (72, 56), (141, 115), (233, 279), (513, 511), (996, 1052), (2013, 2083), (4142, 4050), (8250, 8134), (16262, 16506), (32776, 32760)], 17: [(1, 0), (0, 2), (1, 3), (6, 2), (6, 10), (16, 16), (29, 35), (69, 59), (131, 125), (242, 270), (524, 500), (1044, 1004), (2034, 2062), (4030, 4162), (8170, 8214), (16296, 16472), (32707, 32829)], 18: [(0, 1), (2, 0), (1, 3), (4, 4), (4, 12), (19, 13), (30, 34), (71, 57), (121, 135), (245, 267), (490, 534), (1024, 1024), (1995, 2101), (4151, 4041), (8154, 8230), (16332, 16436), (32924, 32612)], 19: [(0, 1), (1, 1), (1, 3), (4, 4), (11, 5), (16, 16), (36, 28), (58, 70), (124, 132), (245, 267), (507, 517), (999, 1049), (2053, 2043), (4061, 4131), (8144, 8240), (16418, 16350), (32621, 32915)], 20: [(0, 1), (0, 2), (1, 3), (4, 4), (7, 9), (16, 16), (37, 27), (76, 52), (144, 112), (273, 239), (524, 500), (995, 1053), (2000, 2096), (4086, 4106), (8176, 8208), (16422, 16346), (32797, 32739)]}\n"
     ]
    }
   ],
   "source": [
    "print(compiled_dict)"
   ]
  },
  {
   "cell_type": "code",
   "execution_count": 109,
   "metadata": {
    "collapsed": false
   },
   "outputs": [],
   "source": [
    "def get_total_ratios(compiled_dict):\n",
    "    \n",
    "    ratio_dict = {}\n",
    "    count = 0\n",
    "    for key in compiled_dict:\n",
    "        for i in compiled_dict[key]:\n",
    "            if i[1] == 0:\n",
    "                ratio_dict[key] = 1\n",
    "            else:\n",
    "                ratio_dict[key] = dict(i, (i[0] / i[1])}\n",
    "            count += 1\n",
    "            \n",
    "    return ratio_dict\n",
    "    \n",
    "    \n",
    "# def get_mean_of_ratios(total_ratio_list):\n",
    "#     for i in total_ratio_list:\n",
    "        \n",
    "    "
   ]
  },
  {
   "cell_type": "code",
   "execution_count": 110,
   "metadata": {
    "collapsed": false
   },
   "outputs": [
    {
     "ename": "KeyError",
     "evalue": "0",
     "output_type": "error",
     "traceback": [
      "\u001b[0;31m---------------------------------------------------------------------------\u001b[0m",
      "\u001b[0;31mKeyError\u001b[0m                                  Traceback (most recent call last)",
      "\u001b[0;32m<ipython-input-110-3ab46c5a4326>\u001b[0m in \u001b[0;36m<module>\u001b[0;34m()\u001b[0m\n\u001b[0;32m----> 1\u001b[0;31m \u001b[0mtotal_ratio_dict\u001b[0m \u001b[0;34m=\u001b[0m \u001b[0mget_total_ratios\u001b[0m\u001b[0;34m(\u001b[0m\u001b[0mcompiled_dict\u001b[0m\u001b[0;34m)\u001b[0m\u001b[0;34m\u001b[0m\u001b[0m\n\u001b[0m\u001b[1;32m      2\u001b[0m \u001b[0mprint\u001b[0m\u001b[0;34m(\u001b[0m\u001b[0mtotal_ratio_dict\u001b[0m\u001b[0;34m)\u001b[0m\u001b[0;34m\u001b[0m\u001b[0m\n",
      "\u001b[0;32m<ipython-input-109-a801d644718f>\u001b[0m in \u001b[0;36mget_total_ratios\u001b[0;34m(compiled_dict)\u001b[0m\n\u001b[1;32m      6\u001b[0m         \u001b[0;32mfor\u001b[0m \u001b[0mi\u001b[0m \u001b[0;32min\u001b[0m \u001b[0mcompiled_dict\u001b[0m\u001b[0;34m[\u001b[0m\u001b[0mkey\u001b[0m\u001b[0;34m]\u001b[0m\u001b[0;34m:\u001b[0m\u001b[0;34m\u001b[0m\u001b[0m\n\u001b[1;32m      7\u001b[0m             \u001b[0;32mif\u001b[0m \u001b[0mi\u001b[0m\u001b[0;34m[\u001b[0m\u001b[0;36m1\u001b[0m\u001b[0;34m]\u001b[0m \u001b[0;34m==\u001b[0m \u001b[0;36m0\u001b[0m\u001b[0;34m:\u001b[0m\u001b[0;34m\u001b[0m\u001b[0m\n\u001b[0;32m----> 8\u001b[0;31m                 \u001b[0mratio_dict\u001b[0m\u001b[0;34m[\u001b[0m\u001b[0mkey\u001b[0m\u001b[0;34m]\u001b[0m\u001b[0;34m[\u001b[0m\u001b[0mcount\u001b[0m\u001b[0;34m]\u001b[0m \u001b[0;34m=\u001b[0m \u001b[0;36m1\u001b[0m\u001b[0;34m\u001b[0m\u001b[0m\n\u001b[0m\u001b[1;32m      9\u001b[0m             \u001b[0;32melse\u001b[0m\u001b[0;34m:\u001b[0m\u001b[0;34m\u001b[0m\u001b[0m\n\u001b[1;32m     10\u001b[0m                 \u001b[0mratio_dict\u001b[0m\u001b[0;34m[\u001b[0m\u001b[0mkey\u001b[0m\u001b[0;34m]\u001b[0m\u001b[0;34m[\u001b[0m\u001b[0mcount\u001b[0m\u001b[0;34m]\u001b[0m \u001b[0;34m=\u001b[0m \u001b[0;34m(\u001b[0m\u001b[0mi\u001b[0m\u001b[0;34m[\u001b[0m\u001b[0;36m0\u001b[0m\u001b[0;34m]\u001b[0m \u001b[0;34m/\u001b[0m \u001b[0mi\u001b[0m\u001b[0;34m[\u001b[0m\u001b[0;36m1\u001b[0m\u001b[0;34m]\u001b[0m\u001b[0;34m)\u001b[0m\u001b[0;34m\u001b[0m\u001b[0m\n",
      "\u001b[0;31mKeyError\u001b[0m: 0"
     ]
    }
   ],
   "source": [
    "total_ratio_dict = get_total_ratios(compiled_dict)\n",
    "print(total_ratio_dict)"
   ]
  },
  {
   "cell_type": "raw",
   "metadata": {
    "collapsed": true
   },
   "source": [
    "x = ratio_results\n",
    "\n",
    "plt.scatter(range(len(x)), x)\n",
    "plt.xscale('log')\n",
    "plt.xlabel('Flips at powers of 2')\n",
    "plt.ylabel('Ratio')\n",
    "plt.title('Ratio')\n",
    "plt.show()"
   ]
  },
  {
   "cell_type": "code",
   "execution_count": null,
   "metadata": {
    "collapsed": true
   },
   "outputs": [],
   "source": []
  },
  {
   "cell_type": "code",
   "execution_count": null,
   "metadata": {
    "collapsed": true
   },
   "outputs": [],
   "source": []
  },
  {
   "cell_type": "code",
   "execution_count": null,
   "metadata": {
    "collapsed": true
   },
   "outputs": [],
   "source": []
  },
  {
   "cell_type": "code",
   "execution_count": null,
   "metadata": {
    "collapsed": true
   },
   "outputs": [],
   "source": []
  },
  {
   "cell_type": "markdown",
   "metadata": {},
   "source": [
    "# The two graphs show that although the difference in flips grows, it is at a consistent rate. 5% of 1000 is more than 5% of 100, but the distribution remains consistent and even stabilizes the more coins are flipped. #"
   ]
  },
  {
   "cell_type": "code",
   "execution_count": null,
   "metadata": {
    "collapsed": true
   },
   "outputs": [],
   "source": []
  }
 ],
 "metadata": {
  "kernelspec": {
   "display_name": "Python 3",
   "language": "python",
   "name": "python3"
  },
  "language_info": {
   "codemirror_mode": {
    "name": "ipython",
    "version": 3
   },
   "file_extension": ".py",
   "mimetype": "text/x-python",
   "name": "python",
   "nbconvert_exporter": "python",
   "pygments_lexer": "ipython3",
   "version": "3.5.1"
  }
 },
 "nbformat": 4,
 "nbformat_minor": 0
}
