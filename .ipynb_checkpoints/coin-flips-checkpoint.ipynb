{
 "cells": [
  {
   "cell_type": "markdown",
   "metadata": {},
   "source": [
    "# Flipping Out"
   ]
  },
  {
   "cell_type": "code",
   "execution_count": 2,
   "metadata": {
    "collapsed": true
   },
   "outputs": [],
   "source": [
    "%matplotlib inline\n",
    "import math\n",
    "import random\n",
    "import statistics as st\n",
    "import numpy as np\n",
    "import matplotlib.pyplot as plt"
   ]
  },
  {
   "cell_type": "code",
   "execution_count": 64,
   "metadata": {
    "collapsed": true
   },
   "outputs": [],
   "source": [
    "def flip_it():\n",
    "    return random.randint(1, 2)\n",
    "\n",
    "def is_power2(num):\n",
    "\n",
    "    return num != 0 and ((num & (num - 1)) == 0)\n"
   ]
  },
  {
   "cell_type": "code",
   "execution_count": 65,
   "metadata": {
    "collapsed": false
   },
   "outputs": [],
   "source": [
    "def flippin_off(n=2**16):\n",
    "    heads = 0\n",
    "    tails = 0\n",
    "    count = 0\n",
    "    results_list = []\n",
    "    expo = math.sqrt(n)\n",
    "    print(math.sqrt(expo))\n",
    "    while count <= n:\n",
    "        if is_power2(count):\n",
    "            results_list.append((heads, tails))\n",
    "        if flip_it() == 1:\n",
    "            heads += 1\n",
    "        else:\n",
    "            tails += 1\n",
    "        count += 1\n",
    "    return (results_list)"
   ]
  },
  {
   "cell_type": "code",
   "execution_count": 66,
   "metadata": {
    "collapsed": false
   },
   "outputs": [
    {
     "name": "stdout",
     "output_type": "stream",
     "text": [
      "16.0\n"
     ]
    },
    {
     "data": {
      "text/plain": [
       "[(0, 1),\n",
       " (0, 2),\n",
       " (1, 3),\n",
       " (2, 6),\n",
       " (7, 9),\n",
       " (15, 17),\n",
       " (28, 36),\n",
       " (61, 67),\n",
       " (114, 142),\n",
       " (237, 275),\n",
       " (501, 523),\n",
       " (1003, 1045),\n",
       " (2008, 2088),\n",
       " (4051, 4141),\n",
       " (8160, 8224),\n",
       " (16342, 16426),\n",
       " (32731, 32805)]"
      ]
     },
     "execution_count": 66,
     "metadata": {},
     "output_type": "execute_result"
    }
   ],
   "source": [
    "flippin_off(2**16)"
   ]
  },
  {
   "cell_type": "code",
   "execution_count": 35,
   "metadata": {
    "collapsed": true
   },
   "outputs": [],
   "source": [
    "def get_difference_list(results_list):\n",
    "    "
   ]
  },
  {
   "cell_type": "code",
   "execution_count": 41,
   "metadata": {
    "collapsed": false
   },
   "outputs": [
    {
     "data": {
      "text/plain": [
       "(65733, 65338)"
      ]
     },
     "execution_count": 41,
     "metadata": {},
     "output_type": "execute_result"
    }
   ],
   "source": [
    "total_count(interval_check())"
   ]
  },
  {
   "cell_type": "code",
   "execution_count": null,
   "metadata": {
    "collapsed": true
   },
   "outputs": [],
   "source": []
  }
 ],
 "metadata": {
  "kernelspec": {
   "display_name": "Python 3",
   "language": "python",
   "name": "python3"
  },
  "language_info": {
   "codemirror_mode": {
    "name": "ipython",
    "version": 3
   },
   "file_extension": ".py",
   "mimetype": "text/x-python",
   "name": "python",
   "nbconvert_exporter": "python",
   "pygments_lexer": "ipython3",
   "version": "3.5.1"
  }
 },
 "nbformat": 4,
 "nbformat_minor": 0
}
